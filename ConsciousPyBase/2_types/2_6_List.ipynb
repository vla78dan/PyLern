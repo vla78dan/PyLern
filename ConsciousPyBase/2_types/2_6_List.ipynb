{
 "cells": [
  {
   "cell_type": "code",
   "execution_count": null,
   "id": "initial_id",
   "metadata": {
    "collapsed": true
   },
   "outputs": [],
   "source": ""
  },
  {
   "metadata": {},
   "cell_type": "markdown",
   "source": [
    "Метод .sort() в Python используется для сортировки элементов в списке. Метод изменяет список, сортируя элементы по возрастанию, но способ сортировки можно поменять используя параметры key и reverse. Если не указывать аргументы в скобках, то сортировка будет по возрастанию. Метод возвращает None.\n",
    "\n",
    "Иногда программисты используют такое выражение: метод .sort() сортирует элементы списка \"на месте\". Выражение \"на месте\" означает, что метод изменяет оригинал, а не создаёт новый объект. Поэтому метод нужно только вызвать, а не присваивать в переменную."
   ],
   "id": "3c214983528e6779"
  },
  {
   "metadata": {},
   "cell_type": "markdown",
   "source": "sort([key [, reverse]])",
   "id": "4be4f1cb37e54d32"
  },
  {
   "metadata": {
    "ExecuteTime": {
     "end_time": "2025-10-22T03:14:36.929887Z",
     "start_time": "2025-10-22T03:14:36.925882Z"
    }
   },
   "cell_type": "code",
   "source": [
    "my_list = [1, 2, 3, 4, 5]\n",
    "my_list.sort()\n",
    "print(my_list)"
   ],
   "id": "e5d63036fce360bc",
   "outputs": [
    {
     "name": "stdout",
     "output_type": "stream",
     "text": [
      "[1, 2, 3, 4, 5]\n"
     ]
    }
   ],
   "execution_count": 1
  },
  {
   "metadata": {
    "ExecuteTime": {
     "end_time": "2025-10-22T03:15:15.028745Z",
     "start_time": "2025-10-22T03:15:15.025735Z"
    }
   },
   "cell_type": "code",
   "source": [
    "my_list = [1, 2, 3, 4, 5]\n",
    "my_list.sort(reverse=True)\n",
    "print(my_list)"
   ],
   "id": "a0bbbcc4317a9747",
   "outputs": [
    {
     "name": "stdout",
     "output_type": "stream",
     "text": [
      "[5, 4, 3, 2, 1]\n"
     ]
    }
   ],
   "execution_count": 2
  }
 ],
 "metadata": {
  "kernelspec": {
   "display_name": "Python 3",
   "language": "python",
   "name": "python3"
  },
  "language_info": {
   "codemirror_mode": {
    "name": "ipython",
    "version": 2
   },
   "file_extension": ".py",
   "mimetype": "text/x-python",
   "name": "python",
   "nbconvert_exporter": "python",
   "pygments_lexer": "ipython2",
   "version": "2.7.6"
  }
 },
 "nbformat": 4,
 "nbformat_minor": 5
}
