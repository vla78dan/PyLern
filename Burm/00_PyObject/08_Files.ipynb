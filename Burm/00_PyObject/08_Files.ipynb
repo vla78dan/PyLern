{
 "cells": [
  {
   "cell_type": "code",
   "id": "initial_id",
   "metadata": {
    "collapsed": true,
    "ExecuteTime": {
     "end_time": "2025-10-19T14:54:08.412229Z",
     "start_time": "2025-10-19T14:54:08.408307Z"
    }
   },
   "source": [
    "%%writefile myFile.txt\n",
    "First\n",
    "Second\n",
    "Third"
   ],
   "outputs": [
    {
     "name": "stdout",
     "output_type": "stream",
     "text": [
      "Overwriting myFile.txt\n"
     ]
    }
   ],
   "execution_count": 10
  },
  {
   "metadata": {
    "ExecuteTime": {
     "end_time": "2025-10-19T14:54:10.985450Z",
     "start_time": "2025-10-19T14:54:10.982727Z"
    }
   },
   "cell_type": "code",
   "source": "myFile = open('myFile.txt')",
   "id": "69625cc6f8f85492",
   "outputs": [],
   "execution_count": 11
  },
  {
   "metadata": {
    "ExecuteTime": {
     "end_time": "2025-10-19T14:54:13.619922Z",
     "start_time": "2025-10-19T14:54:13.615897Z"
    }
   },
   "cell_type": "code",
   "source": "pwd",
   "id": "a186f9a677214881",
   "outputs": [
    {
     "data": {
      "text/plain": [
       "'F:\\\\Py\\\\3129\\\\PyLern\\\\Burm\\\\00_PyObject'"
      ]
     },
     "execution_count": 12,
     "metadata": {},
     "output_type": "execute_result"
    }
   ],
   "execution_count": 12
  },
  {
   "metadata": {
    "ExecuteTime": {
     "end_time": "2025-10-19T14:54:16.617728Z",
     "start_time": "2025-10-19T14:54:16.615138Z"
    }
   },
   "cell_type": "code",
   "source": "myFile = open('myFile.txt')",
   "id": "14f9d1315e96585b",
   "outputs": [],
   "execution_count": 13
  },
  {
   "metadata": {
    "ExecuteTime": {
     "end_time": "2025-10-19T14:54:19.996376Z",
     "start_time": "2025-10-19T14:54:19.992556Z"
    }
   },
   "cell_type": "code",
   "source": "myFile.read()",
   "id": "b294f286e8b70739",
   "outputs": [
    {
     "data": {
      "text/plain": [
       "'First\\nSecond\\nThird\\n'"
      ]
     },
     "execution_count": 14,
     "metadata": {},
     "output_type": "execute_result"
    }
   ],
   "execution_count": 14
  },
  {
   "metadata": {
    "ExecuteTime": {
     "end_time": "2025-10-19T14:54:23.844903Z",
     "start_time": "2025-10-19T14:54:23.840892Z"
    }
   },
   "cell_type": "code",
   "source": "myFile.read()",
   "id": "c81b415615aea64c",
   "outputs": [
    {
     "data": {
      "text/plain": [
       "''"
      ]
     },
     "execution_count": 15,
     "metadata": {},
     "output_type": "execute_result"
    }
   ],
   "execution_count": 15
  },
  {
   "metadata": {
    "ExecuteTime": {
     "end_time": "2025-10-19T14:54:25.491849Z",
     "start_time": "2025-10-19T14:54:25.488569Z"
    }
   },
   "cell_type": "code",
   "source": "myFile.seek(0)",
   "id": "205a40777b921ab8",
   "outputs": [
    {
     "data": {
      "text/plain": [
       "0"
      ]
     },
     "execution_count": 16,
     "metadata": {},
     "output_type": "execute_result"
    }
   ],
   "execution_count": 16
  },
  {
   "metadata": {
    "ExecuteTime": {
     "end_time": "2025-10-19T14:55:28.736727Z",
     "start_time": "2025-10-19T14:55:28.733476Z"
    }
   },
   "cell_type": "code",
   "source": "contents = myFile.read()",
   "id": "43e404bcfbf12c36",
   "outputs": [],
   "execution_count": 17
  },
  {
   "metadata": {
    "ExecuteTime": {
     "end_time": "2025-10-19T14:55:30.864870Z",
     "start_time": "2025-10-19T14:55:30.860977Z"
    }
   },
   "cell_type": "code",
   "source": "contents",
   "id": "2a04a7fccf6abd3a",
   "outputs": [
    {
     "data": {
      "text/plain": [
       "'First\\nSecond\\nThird\\n'"
      ]
     },
     "execution_count": 18,
     "metadata": {},
     "output_type": "execute_result"
    }
   ],
   "execution_count": 18
  },
  {
   "metadata": {
    "ExecuteTime": {
     "end_time": "2025-10-19T14:55:56.568522Z",
     "start_time": "2025-10-19T14:55:56.564936Z"
    }
   },
   "cell_type": "code",
   "source": "myFile.seek(0)",
   "id": "ba2153b388ae1e1d",
   "outputs": [
    {
     "data": {
      "text/plain": [
       "0"
      ]
     },
     "execution_count": 19,
     "metadata": {},
     "output_type": "execute_result"
    }
   ],
   "execution_count": 19
  }
 ],
 "metadata": {
  "kernelspec": {
   "display_name": "Python 3",
   "language": "python",
   "name": "python3"
  },
  "language_info": {
   "codemirror_mode": {
    "name": "ipython",
    "version": 2
   },
   "file_extension": ".py",
   "mimetype": "text/x-python",
   "name": "python",
   "nbconvert_exporter": "python",
   "pygments_lexer": "ipython2",
   "version": "2.7.6"
  }
 },
 "nbformat": 4,
 "nbformat_minor": 5
}
